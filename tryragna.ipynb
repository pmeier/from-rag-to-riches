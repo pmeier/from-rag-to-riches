{
 "cells": [
  {
   "cell_type": "markdown",
   "id": "d831135b-d40e-4ff6-a3d6-dc08fe107bbb",
   "metadata": {},
   "source": [
    "## Try it yourself!\n",
    "\n",
    "REST API: https://api.ragna.quansight.dev/docs\n",
    "\n",
    "Web UI: https://ragna.quansight.dev\n",
    "\n",
    "![alttext](images/login.png)"
   ]
  },
  {
   "cell_type": "markdown",
   "id": "000c0ac4-650f-4177-b7fb-193b936c9763",
   "metadata": {},
   "source": [
    "## Get in touch!\n",
    "\n",
    "Website: https://ragna.chat\n",
    "\n",
    "Source code: https://github.com/Quansight/ragna\n",
    "\n",
    "Community contact: https://github.com/Quansight/ragna/discussions\n",
    "\n",
    "Business contact: https://quansight.com/about-us/#bookacallform"
   ]
  }
 ],
 "metadata": {
  "kernelspec": {
   "display_name": "Python 3 (ipykernel)",
   "language": "python",
   "name": "python3"
  },
  "language_info": {
   "codemirror_mode": {
    "name": "ipython",
    "version": 3
   },
   "file_extension": ".py",
   "mimetype": "text/x-python",
   "name": "python",
   "nbconvert_exporter": "python",
   "pygments_lexer": "ipython3",
   "version": "3.11.6"
  }
 },
 "nbformat": 4,
 "nbformat_minor": 5
}
